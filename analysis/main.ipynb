{
 "cells": [
  {
   "cell_type": "code",
   "execution_count": 1,
   "metadata": {},
   "outputs": [],
   "source": [
    "import os \n",
    "import numpy as np\n",
    "import pandas as pd\n",
    "import matplotlib.pyplot as plt\n",
    "import json"
   ]
  },
  {
   "cell_type": "code",
   "execution_count": 2,
   "metadata": {},
   "outputs": [
    {
     "name": "stdout",
     "output_type": "stream",
     "text": [
      "artAndDesign\n",
      "books\n",
      "communication\n",
      "education\n",
      "entertainment\n",
      "healthAndFitness\n",
      "topGames\n"
     ]
    }
   ],
   "source": [
    "# load all the reviews json files from reviews_data folder\n",
    "reviews_files = [f for f in os.listdir('../reviews_data') if f.endswith('.json')]\n",
    "\n",
    "reviews = {}\n",
    "\n",
    "for file in reviews_files:\n",
    "    with open('../reviews_data/'+file) as json_file:\n",
    "        data = json.load(json_file)\n",
    "        reviews[file[:-5]] = data\n",
    "\n",
    "for key in reviews.keys():\n",
    "    print(key)\n",
    "    "
   ]
  },
  {
   "cell_type": "code",
   "execution_count": 3,
   "metadata": {},
   "outputs": [
    {
     "name": "stdout",
     "output_type": "stream",
     "text": [
      "Angeline Nop\n",
      "I LOVE IT, TODAY I JUST GOT A NEW PHONE AND JUST INSTALLED IT, I DREW ALOT OF CLOTHES DESIGNS (clothes inspired by gacha) I JUST LOVE DRAWING MY DAD IS A ARTIST AND HE LOVED THIS GAME!!!\n",
      "5\n"
     ]
    }
   ],
   "source": [
    "for review in reviews['artAndDesign']:\n",
    "    print(review['user_name'])\n",
    "    print(review['content'])\n",
    "    print(review['rating'])\n",
    "    break"
   ]
  },
  {
   "cell_type": "code",
   "execution_count": 4,
   "metadata": {},
   "outputs": [],
   "source": [
    "# importing libraries\n",
    "import random\n",
    "from nltk.corpus import names\n",
    "import nltk\n",
    "\n",
    "# nltk.download()\n",
    "\n",
    "def gender_features(word):\n",
    "\treturn {'last_letter':word[-1]}\n",
    "\n",
    "# preparing a list of examples and corresponding class labels.\n",
    "labeled_names = ([(name, 'male') for name in names.words('male.txt')]+\n",
    "\t\t\t[(name, 'female') for name in names.words('female.txt')])\n",
    "\n",
    "random.shuffle(labeled_names)\n",
    "\n",
    "# we use the feature extractor to process the names data.\n",
    "featuresets = [(gender_features(n), gender)\n",
    "\t\t\tfor (n, gender)in labeled_names]\n",
    "\n",
    "# Divide the resulting list of feature\n",
    "# sets into a training set and a test set.\n",
    "train_set, test_set = featuresets[500:], featuresets[:500]\n",
    "\n",
    "# The training set is used to\n",
    "# train a new \"naive Bayes\" classifier.\n",
    "classifier = nltk.NaiveBayesClassifier.train(train_set)\n",
    "\n",
    "# print(classifier.classify(gender_features('vikendi')))\n",
    "\n",
    "# # output should be 'male'\n",
    "# print(nltk.classify.accuracy(classifier, train_set))\n",
    "\n",
    "# it shows accuracy of our classifier and\n",
    "# train_set. which must be more than 99 %\n",
    "# classifier.show_most_informative_features(10)\n",
    "\n",
    "\n",
    "\n"
   ]
  },
  {
   "cell_type": "code",
   "execution_count": 5,
   "metadata": {},
   "outputs": [],
   "source": [
    "categories = ['artAndDesign', 'books', 'communication', 'education', 'entertainment', 'healthAndFitness', 'topGames']"
   ]
  },
  {
   "cell_type": "code",
   "execution_count": 6,
   "metadata": {},
   "outputs": [],
   "source": [
    "def get_genders(category):\n",
    "    \n",
    "    for review in reviews[category]:\n",
    "\n",
    "        user_name = review['user_name']\n",
    "        gender = classifier.classify(gender_features(user_name.split(\" \")[0]))\n",
    "        \n",
    "        review['gender'] = gender"
   ]
  },
  {
   "cell_type": "code",
   "execution_count": 7,
   "metadata": {},
   "outputs": [],
   "source": [
    "for category in categories:\n",
    "    get_genders(category)"
   ]
  },
  {
   "cell_type": "code",
   "execution_count": 26,
   "metadata": {},
   "outputs": [],
   "source": [
    "from AnalyseSentiment.AnalyseSentiment import AnalyseSentiment\n",
    "\n",
    "obj = AnalyseSentiment()"
   ]
  },
  {
   "cell_type": "code",
   "execution_count": 8,
   "metadata": {},
   "outputs": [],
   "source": [
    "def get_analysis(category):\n",
    "\n",
    "    total_reviews = 0\n",
    "    total_female_reviews = 0\n",
    "    total_male_reviews = 0\n",
    "    total_female_positive_reviews = 0\n",
    "    total_male_positive_reviews = 0\n",
    "\n",
    "    for review in reviews[category]:\n",
    "\n",
    "        total_reviews += 1\n",
    "\n",
    "        if review['gender'] == 'male':\n",
    "            \n",
    "            total_male_reviews += 1\n",
    "\n",
    "            data = obj.Analyse(review['content'])\n",
    "            sentiment = data['overall_sentiment_score']\n",
    "\n",
    "            if sentiment>0:\n",
    "                total_male_positive_reviews += 1\n",
    "        \n",
    "        else:\n",
    "\n",
    "            total_female_reviews += 1\n",
    "\n",
    "            data = obj.Analyse(review['content'])\n",
    "            sentiment = data['overall_sentiment_score']\n",
    "\n",
    "            if sentiment>0:\n",
    "                total_female_positive_reviews += 1\n",
    "    \n",
    "    return {\n",
    "        'total_reviews': total_reviews,\n",
    "        'total_female_positive_reviews': total_female_positive_reviews,\n",
    "        'total_male_positive_reviews': total_male_positive_reviews,\n",
    "        'total_female_reviews': total_female_reviews,\n",
    "        'total_male_reviews': total_male_reviews,\n",
    "    }\n"
   ]
  },
  {
   "cell_type": "code",
   "execution_count": 9,
   "metadata": {},
   "outputs": [
    {
     "data": {
      "text/plain": [
       "{'artAndDesign': {'total_reviews': 934,\n",
       "  'total_female_positive_reviews': 0,\n",
       "  'total_male_positive_reviews': 427,\n",
       "  'total_female_reviews': 507,\n",
       "  'total_male_reviews': 427},\n",
       " 'books': {'total_reviews': 520,\n",
       "  'total_female_positive_reviews': 0,\n",
       "  'total_male_positive_reviews': 243,\n",
       "  'total_female_reviews': 277,\n",
       "  'total_male_reviews': 243},\n",
       " 'communication': {'total_reviews': 2000,\n",
       "  'total_female_positive_reviews': 0,\n",
       "  'total_male_positive_reviews': 1124,\n",
       "  'total_female_reviews': 876,\n",
       "  'total_male_reviews': 1124},\n",
       " 'education': {'total_reviews': 2000,\n",
       "  'total_female_positive_reviews': 0,\n",
       "  'total_male_positive_reviews': 878,\n",
       "  'total_female_reviews': 1122,\n",
       "  'total_male_reviews': 878},\n",
       " 'entertainment': {'total_reviews': 1600,\n",
       "  'total_female_positive_reviews': 0,\n",
       "  'total_male_positive_reviews': 766,\n",
       "  'total_female_reviews': 834,\n",
       "  'total_male_reviews': 766},\n",
       " 'healthAndFitness': {'total_reviews': 1974,\n",
       "  'total_female_positive_reviews': 0,\n",
       "  'total_male_positive_reviews': 881,\n",
       "  'total_female_reviews': 1093,\n",
       "  'total_male_reviews': 881},\n",
       " 'topGames': {'total_reviews': 1960,\n",
       "  'total_female_positive_reviews': 0,\n",
       "  'total_male_positive_reviews': 1116,\n",
       "  'total_female_reviews': 844,\n",
       "  'total_male_reviews': 1116}}"
      ]
     },
     "execution_count": 9,
     "metadata": {},
     "output_type": "execute_result"
    }
   ],
   "source": [
    "data = {}\n",
    "\n",
    "for category in categories:\n",
    "\n",
    "    data[category] = get_analysis(category)\n",
    "\n",
    "data"
   ]
  },
  {
   "cell_type": "code",
   "execution_count": 25,
   "metadata": {},
   "outputs": [
    {
     "name": "stdout",
     "output_type": "stream",
     "text": [
      "Negative -0.7896\n"
     ]
    }
   ],
   "source": [
    "from AnalyseSentiment.AnalyseSentiment import AnalyseSentiment\n",
    "\n",
    "obj = AnalyseSentiment()\n",
    "\n",
    "data = obj.Analyse(\"it's horrible I have nfts with no way of selling or getting them out of this wallet it's very confusing without really explaining anything and there's no one to help after weeks of trying I finally have gotten a few of them from being hidden was happy to see update but still no help and can't really do anything and can't sign in through website such a mess\")\n",
    "\n",
    "print(data['overall_sentiment'], data['overall_sentiment_score'])"
   ]
  },
  {
   "cell_type": "code",
   "execution_count": null,
   "metadata": {},
   "outputs": [],
   "source": []
  }
 ],
 "metadata": {
  "interpreter": {
   "hash": "9edd495ad4044fbd84fdfe35ea9d18aa878f8290a2cffb4c0eaae1b405c49978"
  },
  "kernelspec": {
   "display_name": "Python 3.10.0 64-bit",
   "language": "python",
   "name": "python3"
  },
  "language_info": {
   "codemirror_mode": {
    "name": "ipython",
    "version": 3
   },
   "file_extension": ".py",
   "mimetype": "text/x-python",
   "name": "python",
   "nbconvert_exporter": "python",
   "pygments_lexer": "ipython3",
   "version": "3.9.7"
  },
  "orig_nbformat": 4
 },
 "nbformat": 4,
 "nbformat_minor": 2
}
